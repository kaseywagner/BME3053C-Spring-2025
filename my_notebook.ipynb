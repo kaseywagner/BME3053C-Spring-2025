{
 "cells": [
  {
   "cell_type": "code",
   "execution_count": 1,
   "metadata": {},
   "outputs": [
    {
     "ename": "ImportError",
     "evalue": "cannot import name 'add' from 'my_module' (unknown location)",
     "output_type": "error",
     "traceback": [
      "\u001b[0;31m---------------------------------------------------------------------------\u001b[0m",
      "\u001b[0;31mImportError\u001b[0m                               Traceback (most recent call last)",
      "Cell \u001b[0;32mIn[1], line 1\u001b[0m\n\u001b[0;32m----> 1\u001b[0m \u001b[38;5;28;01mfrom\u001b[39;00m \u001b[38;5;21;01mmy_module\u001b[39;00m \u001b[38;5;28;01mimport\u001b[39;00m add, subtract, multiply, divide\n\u001b[1;32m      2\u001b[0m \u001b[38;5;28mprint\u001b[39m(add(\u001b[38;5;241m5\u001b[39m, \u001b[38;5;241m3\u001b[39m))  \u001b[38;5;66;03m# Output: 8\u001b[39;00m\n",
      "\u001b[0;31mImportError\u001b[0m: cannot import name 'add' from 'my_module' (unknown location)"
     ]
    }
   ],
   "source": [
    "from my_module import add, subtract, multiply, divide\n",
    "print(add(5, 3))  # Output: 8"
   ]
  },
  {
   "cell_type": "code",
   "execution_count": null,
   "metadata": {},
   "outputs": [],
   "source": [
    "import importlib\n",
    "import my_module\n",
    "   \n",
    "# After making changes to your module files\n",
    "importlib.reload(my_module)\n",
    "   \n",
    "# Now you can use the updated functions\n",
    "from my_module import add, subtract, multiply, divide\n",
    "   \n",
    "print(add(5, 3))  # Will use the updated version"
   ]
  }
 ],
 "metadata": {
  "kernelspec": {
   "display_name": "Python 3",
   "language": "python",
   "name": "python3"
  },
  "language_info": {
   "codemirror_mode": {
    "name": "ipython",
    "version": 3
   },
   "file_extension": ".py",
   "mimetype": "text/x-python",
   "name": "python",
   "nbconvert_exporter": "python",
   "pygments_lexer": "ipython3",
   "version": "3.12.1"
  }
 },
 "nbformat": 4,
 "nbformat_minor": 2
}
